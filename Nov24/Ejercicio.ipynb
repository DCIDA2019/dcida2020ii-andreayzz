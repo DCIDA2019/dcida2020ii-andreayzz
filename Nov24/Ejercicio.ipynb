{
 "cells": [
  {
   "cell_type": "markdown",
   "metadata": {},
   "source": [
    "Podemos hacer la division de los volumenes de hiperesferas de dimension D y radio R y los hipercubos de dimension D y lado R"
   ]
  },
  {
   "cell_type": "code",
   "execution_count": 101,
   "metadata": {},
   "outputs": [],
   "source": [
    "import numpy as np\n",
    "import matplotlib.pyplot as plt\n",
    "from scipy.special import gamma, factorial\n",
    "import scipy as sp\n",
    "\n",
    "\n",
    "P = np.zeros(15,float)\n",
    "dims = np.zeros(15,float)\n",
    "\n",
    "\n",
    "def V_c(R,D):\n",
    "    vol = np.power(2*R,D)\n",
    "    return vol\n",
    "\n",
    "def V_e(R,D):\n",
    "    G= sp.special.gamma(D/2)\n",
    "    vol = 2*np.power(R,D)*np.power(np.pi,D/2)/(G*D)\n",
    "    return vol\n"
   ]
  },
  {
   "cell_type": "markdown",
   "metadata": {},
   "source": [
    "/begin{equation}\n",
    "/frac\n",
    "/end{equation}"
   ]
  },
  {
   "cell_type": "code",
   "execution_count": 102,
   "metadata": {},
   "outputs": [
    {
     "name": "stdout",
     "output_type": "stream",
     "text": [
      "[7.85398163e-01 5.23598776e-01 3.08425138e-01 1.64493407e-01\n",
      " 8.07455122e-02 3.69122341e-02 1.58543442e-02 6.44240020e-03\n",
      " 2.49039457e-03 9.19972597e-04 3.25991887e-04 1.11160737e-04\n",
      " 3.65762042e-05 1.16407251e-05 3.59086045e-06]\n"
     ]
    }
   ],
   "source": [
    "R=1\n",
    "\n",
    "for i in range(15):\n",
    "    D=i+2\n",
    "    dims[i]=i+2\n",
    "    Proporcion = V_e(R,D)/V_c(R,D)\n",
    "    P[i]=Proporcion\n",
    "print(P)"
   ]
  },
  {
   "cell_type": "code",
   "execution_count": 104,
   "metadata": {},
   "outputs": [
    {
     "data": {
      "image/png": "[encoded data removed]",
      "text/plain": [
       "<Figure size 720x360 with 1 Axes>"
      ]
     },
     "metadata": {
      "needs_background": "light"
     },
     "output_type": "display_data"
    }
   ],
   "source": [
    "fig = plt.figure(figsize=(10,5))\n",
    "plt.plot(dims,P,'k-')\n",
    "plt.xlabel('Dimension',fontsize=18)\n",
    "plt.xlim(2,17)\n",
    "plt.ylabel('$Proporcion$',fontsize=13);\n"
   ]
  },
  {
   "cell_type": "markdown",
   "metadata": {},
   "source": [
    "Aquí claramente se ve que sobrepasa los decimales de float de tan pequeño que es:"
   ]
  },
  {
   "cell_type": "code",
   "execution_count": 94,
   "metadata": {},
   "outputs": [
    {
     "data": {
      "text/plain": [
       "-4.557492186658719e-15"
      ]
     },
     "execution_count": 94,
     "metadata": {},
     "output_type": "execute_result"
    }
   ],
   "source": [
    "#dimension 31\n",
    "Dim_inf=31\n",
    "Prop_inf=V_e(R,Dim_inf)/V_c(R,Dim_inf)\n",
    "Prop_inf"
   ]
  },
  {
   "cell_type": "code",
   "execution_count": 95,
   "metadata": {},
   "outputs": [
    {
     "name": "stderr",
     "output_type": "stream",
     "text": [
      "C:\\Users\\rocan\\Anaconda3\\lib\\site-packages\\ipykernel_launcher.py:2: RuntimeWarning: divide by zero encountered in double_scalars\n",
      "  \n"
     ]
    },
    {
     "data": {
      "text/plain": [
       "inf"
      ]
     },
     "execution_count": 95,
     "metadata": {},
     "output_type": "execute_result"
    }
   ],
   "source": [
    "#dimension 32 ya es demasiado pequeña esta proporción\n",
    "Dim_inf=32\n",
    "Prop_inf=V_e(R,Dim_inf)/V_c(R,Dim_inf)\n",
    "Prop_inf"
   ]
  }
 ],
 "metadata": {
  "kernelspec": {
   "display_name": "Python 3",
   "language": "python",
   "name": "python3"
  },
  "language_info": {
   "codemirror_mode": {
    "name": "ipython",
    "version": 3
   },
   "file_extension": ".py",
   "mimetype": "text/x-python",
   "name": "python",
   "nbconvert_exporter": "python",
   "pygments_lexer": "ipython3",
   "version": "3.7.4"
  }
 },
 "nbformat": 4,
 "nbformat_minor": 4
}
