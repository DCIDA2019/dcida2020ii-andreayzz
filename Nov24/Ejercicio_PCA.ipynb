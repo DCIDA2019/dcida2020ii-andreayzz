{
 "cells": [
  {
   "cell_type": "code",
   "execution_count": 1,
   "metadata": {},
   "outputs": [],
   "source": [
    "import os\n",
    "import sys\n",
    "import numpy as np\n",
    "import matplotlib.pyplot as plt\n",
    "import urllib.request\n",
    "from astropy.io import fits as pyfits\n",
    "from astropy.table import Table\n",
    "from astroML.datasets import sdss_corrected_spectra\n",
    "from astroML.utils.decorators import pickle_results"
   ]
  },
  {
   "cell_type": "code",
   "execution_count": 2,
   "metadata": {},
   "outputs": [],
   "source": [
    "DATA_URL=\"https://data.sdss.org/sas/dr14/eboss/qso/DR14Q/\"\n",
    "file=\"DR14Q_v4_4.fits\"\n",
    "local_dir=\"./\"\n",
    "local_file = os.path.join(local_dir,file)"
   ]
  },
  {
   "cell_type": "code",
   "execution_count": 3,
   "metadata": {},
   "outputs": [
    {
     "name": "stdout",
     "output_type": "stream",
     "text": [
      "./DR14Q_v4_4.fits already exist\n"
     ]
    }
   ],
   "source": [
    "if not os.path.exists(file):\n",
    "        print(\"downloading DR14 quasar dataset from %s to %s\"\n",
    "              % (DATA_URL+file, local_file ))\n",
    "        tmp = urllib.request.urlretrieve(DATA_URL+local_file, local_file)\n",
    "        print (\"Downloaded file\"+local_file)\n",
    "else:\n",
    "    print(\"%s already exist\"%(local_file))"
   ]
  },
  {
   "cell_type": "code",
   "execution_count": 4,
   "metadata": {},
   "outputs": [
    {
     "name": "stderr",
     "output_type": "stream",
     "text": [
      "WARNING: UnitsWarning: 'erg/s/cm2' contains multiple slashes, which is discouraged by the FITS standard [astropy.units.format.generic]\n",
      "WARNING: UnitsWarning: 'W/m2/Hz' contains multiple slashes, which is discouraged by the FITS standard [astropy.units.format.generic]\n"
     ]
    }
   ],
   "source": [
    "catalog=Table.read('DR14Q_v4_4.fits')\n",
    "#catalog.colnames"
   ]
  },
  {
   "cell_type": "code",
   "execution_count": 5,
   "metadata": {},
   "outputs": [],
   "source": [
    "#catalog"
   ]
  },
  {
   "cell_type": "code",
   "execution_count": 6,
   "metadata": {},
   "outputs": [],
   "source": [
    "w=(catalog['THING_ID']>0) & (catalog['Z']>2) & (catalog['Z']<4) & (catalog['RA']!=catalog['DEC'])& (catalog['RA']>0) & (catalog['DEC']>0)\n",
    "reduced_cat=catalog[w]\n",
    "#reduced_cat"
   ]
  },
  {
   "cell_type": "code",
   "execution_count": 7,
   "metadata": {},
   "outputs": [],
   "source": [
    "cat_by_plate=reduced_cat.group_by('PLATE')\n",
    "small_cat=cat_by_plate[0:100]\n",
    "#small_cat"
   ]
  },
  {
   "cell_type": "code",
   "execution_count": 8,
   "metadata": {},
   "outputs": [],
   "source": [
    "thing_id=small_cat['THING_ID']\n",
    "fiberid=small_cat['FIBERID']\n",
    "plate=small_cat['PLATE']\n",
    "zqso=small_cat['Z']"
   ]
  },
  {
   "cell_type": "code",
   "execution_count": 9,
   "metadata": {},
   "outputs": [],
   "source": [
    "plate_list=[]\n",
    "for p,m in zip(small_cat['PLATE'],small_cat['MJD']):\n",
    "    plate_list.append(str(p)+'/spPlate-'+str(p)+'-'+str(m)+'.fits')\n",
    "plate_list=np.unique(plate_list)\n",
    "#plate_list"
   ]
  },
  {
   "cell_type": "code",
   "execution_count": 10,
   "metadata": {},
   "outputs": [
    {
     "name": "stdout",
     "output_type": "stream",
     "text": [
      "https://data.sdss.org/sas/dr14/eboss/spectro/redux/v5_10_0/3586/spPlate-3586-55181.fits  ./spPlates/spPlate-3586-55181.fits present on disk. \n",
      "https://data.sdss.org/sas/dr14/eboss/spectro/redux/v5_10_0/3587/spPlate-3587-55182.fits  ./spPlates/spPlate-3587-55182.fits present on disk. \n",
      "https://data.sdss.org/sas/dr14/eboss/spectro/redux/v5_10_0/3588/spPlate-3588-55184.fits  ./spPlates/spPlate-3588-55184.fits present on disk. \n",
      "https://data.sdss.org/sas/dr14/eboss/spectro/redux/v5_10_0/3589/spPlate-3589-55186.fits  ./spPlates/spPlate-3589-55186.fits present on disk. \n",
      "https://data.sdss.org/sas/dr14/eboss/spectro/redux/v5_10_0/3590/spPlate-3590-55201.fits  ./spPlates/spPlate-3590-55201.fits present on disk. \n",
      "https://data.sdss.org/sas/dr14/eboss/spectro/redux/v5_10_0/3606/spPlate-3606-55182.fits  ./spPlates/spPlate-3606-55182.fits present on disk. \n",
      "https://data.sdss.org/sas/dr14/eboss/spectro/redux/v5_10_0/3609/spPlate-3609-55201.fits  ./spPlates/spPlate-3609-55201.fits present on disk. \n",
      "https://data.sdss.org/sas/dr14/eboss/spectro/redux/v5_10_0/3615/spPlate-3615-55179.fits  ./spPlates/spPlate-3615-55179.fits present on disk. \n",
      "https://data.sdss.org/sas/dr14/eboss/spectro/redux/v5_10_0/3615/spPlate-3615-55208.fits  ./spPlates/spPlate-3615-55208.fits present on disk. \n",
      "https://data.sdss.org/sas/dr14/eboss/spectro/redux/v5_10_0/3615/spPlate-3615-56544.fits  ./spPlates/spPlate-3615-56544.fits present on disk. \n"
     ]
    }
   ],
   "source": [
    "plates_url='https://data.sdss.org/sas/dr14/eboss/spectro/redux/v5_10_0/'\n",
    "plates_local='./spPlates/'\n",
    "\n",
    "if not os.path.exists(plates_local):\n",
    "        os.makedirs(plates_local)\n",
    "\n",
    "for plate_ in plate_list:\n",
    "    url_file = os.path.join(plates_url,plate_)\n",
    "    local_file=plates_local+plate_.split(\"/\")[1]\n",
    "    if not os.path.exists(local_file):\n",
    "        print(\"downloading spplate from %s to %s\"\n",
    "              % (url_file, local_file))\n",
    "        tmp = urllib.request.urlretrieve(url_file, local_file)\n",
    "    else:\n",
    "        print('%s  %s present on disk. '%(url_file,local_file))"
   ]
  },
  {
   "cell_type": "code",
   "execution_count": 11,
   "metadata": {},
   "outputs": [],
   "source": [
    "file=plates_local+plate_list[2].split(\"/\")[1]\n",
    "plate1=pyfits.open(file)\n",
    "#print(file)"
   ]
  },
  {
   "cell_type": "code",
   "execution_count": 12,
   "metadata": {},
   "outputs": [],
   "source": [
    "#plate1.info()"
   ]
  },
  {
   "cell_type": "code",
   "execution_count": 13,
   "metadata": {},
   "outputs": [],
   "source": [
    "plugmap=plate1['PLUGMAP'].data\n",
    "#Table(plugmap)"
   ]
  },
  {
   "cell_type": "code",
   "execution_count": 14,
   "metadata": {},
   "outputs": [],
   "source": [
    "thisplate=plate_list[2].split(\"/\")[0]\n",
    "w=plate==int(thisplate)\n",
    "ids_=fiberid[w]\n",
    "zqso_=zqso[w]"
   ]
  },
  {
   "cell_type": "code",
   "execution_count": 15,
   "metadata": {},
   "outputs": [],
   "source": [
    "w=np.in1d(plugmap['FIBERID'],ids_)\n",
    "small_plugmap=plugmap[w]\n",
    "#Table(small_plugmap)"
   ]
  },
  {
   "cell_type": "code",
   "execution_count": 16,
   "metadata": {},
   "outputs": [],
   "source": [
    "pltheader=plate1[0].header\n",
    "coeff0=pltheader['COEFF0']\n",
    "coeff1=pltheader['COEFF1']"
   ]
  },
  {
   "cell_type": "code",
   "execution_count": 20,
   "metadata": {},
   "outputs": [],
   "source": [
    "flux=plate1[0].data\n",
    "ivar=plate1[1].data\n",
    "wavelengths=10**(coeff0+coeff1*np.arange(flux.shape[1]))"
   ]
  },
  {
   "cell_type": "code",
   "execution_count": 21,
   "metadata": {},
   "outputs": [],
   "source": [
    "flux = flux[ids_-1]\n",
    "ivar = ivar[ids_-1]\n",
    "#zqso_"
   ]
  },
  {
   "cell_type": "code",
   "execution_count": 26,
   "metadata": {},
   "outputs": [],
   "source": [
    "from sklearn.decomposition import PCA\n",
    "n_components = 5\n",
    "spec_mean = flux.mean(0)\n",
    "    # PCA: use randomized PCA for speed\n",
    "pca = PCA(n_components - 1, random_state=0, svd_solver='randomized')\n",
    "pca.fit(flux)\n",
    "pca_comp = np.vstack([spec_mean,pca.components_])"
   ]
  },
  {
   "cell_type": "code",
   "execution_count": 27,
   "metadata": {},
   "outputs": [
    {
     "data": {
      "image/png": "[encoded data removed]",
      "text/plain": [
       "<Figure size 1080x1008 with 5 Axes>"
      ]
     },
     "metadata": {
      "needs_background": "light"
     },
     "output_type": "display_data"
    }
   ],
   "source": [
    "\n",
    "# Plot the results\n",
    "fig = plt.figure(figsize=(15, 14))\n",
    "fig.subplots_adjust(left=0.05, right=0.95, wspace=0.05,\n",
    "                    bottom=0.1, top=0.95, hspace=0.05)\n",
    "\n",
    "titles = ['PCA components']\n",
    "\n",
    "for i, comp in enumerate([pca_comp]):\n",
    "    for j in range(n_components):\n",
    "        ax = fig.add_subplot(n_components, 3, 3 * j + 1 + i)\n",
    "\n",
    "        ax.yaxis.set_major_formatter(plt.NullFormatter())\n",
    "        ax.xaxis.set_major_locator(plt.MultipleLocator(1000))\n",
    "        if j < n_components - 1:\n",
    "            ax.xaxis.set_major_formatter(plt.NullFormatter())\n",
    "        else:\n",
    "            ax.xaxis.set_major_locator(\n",
    "                plt.FixedLocator(list(range(3000, 7999, 1000))))\n",
    "            ax.set_xlabel(r'wavelength ${\\rm (\\AA)}$')\n",
    "        \n",
    "        ax.plot(wavelengths, comp[j], '-k', lw=1)\n",
    "        \n",
    "        # plot zero line\n",
    "        xlim = [3000, 8000]\n",
    "        ax.plot(xlim, [0, 0], '-', c='gray', lw=1)\n",
    "\n",
    "        if j == 0:\n",
    "            ax.set_title(titles[i])\n",
    "\n",
    "        if titles[i].startswith('PCA') or titles[i].startswith('ICA'):\n",
    "            if j == 0:\n",
    "                label = 'mean'\n",
    "            else:\n",
    "                label = 'component %i' % j\n",
    "        else:\n",
    "            label = 'component %i' % (j + 1)\n",
    "\n",
    "        ax.text(0.03, 0.94, label, transform=ax.transAxes,\n",
    "                ha='left', va='top')\n",
    "\n",
    "        for l in ax.get_xticklines() + ax.get_yticklines():\n",
    "            l.set_markersize(2)\n",
    "\n",
    "        # adjust y limits\n",
    "        ylim = plt.ylim()\n",
    "        dy = 0.05 * (ylim[1] - ylim[0])\n",
    "\n",
    "        ax.set_ylim(ylim[0] - dy, ylim[1] + 4 * dy)\n",
    "        ax.set_xlim(xlim)\n"
   ]
  },
  {
   "cell_type": "code",
   "execution_count": null,
   "metadata": {},
   "outputs": [],
   "source": []
  }
 ],
 "metadata": {
  "kernelspec": {
   "display_name": "Python 3",
   "language": "python",
   "name": "python3"
  },
  "language_info": {
   "codemirror_mode": {
    "name": "ipython",
    "version": 3
   },
   "file_extension": ".py",
   "mimetype": "text/x-python",
   "name": "python",
   "nbconvert_exporter": "python",
   "pygments_lexer": "ipython3",
   "version": "3.7.4"
  }
 },
 "nbformat": 4,
 "nbformat_minor": 4
}
