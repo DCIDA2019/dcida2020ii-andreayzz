{
 "cells": [
  {
   "cell_type": "code",
   "execution_count": 2,
   "metadata": {},
   "outputs": [],
   "source": [
    "import numpy as np\n",
    "import matplotlib.pyplot as plt"
   ]
  },
  {
   "cell_type": "markdown",
   "metadata": {},
   "source": [
    "Landy-Szalay:\n",
    "\n",
    "\\begin{equation}\n",
    "\\xi(r) = \\frac{DD(r)-2DR(r)}{RR(r)} + 1\n",
    "\\end{equation}"
   ]
  },
  {
   "cell_type": "code",
   "execution_count": 39,
   "metadata": {},
   "outputs": [],
   "source": [
    "#numero de puntos\n",
    "N = 1200\n",
    "# medidas del cubo\n",
    "l = 1\n",
    "D = 3\n",
    "\n"
   ]
  },
  {
   "cell_type": "code",
   "execution_count": 32,
   "metadata": {},
   "outputs": [],
   "source": [
    "#distancia entre el punto j y cada uno de los puntos de b \n",
    "def distancias(d,r):\n",
    "    dist = []\n",
    "#calculamos la distancia de cada uno de los puntos de \"d\" a cada uno de los puntos de \"r\", un arreglo random\n",
    "#el tamaño final de \"Distancias\" será de N*N pues son las combinaciones de puntos que hay\n",
    "    for i in d:\n",
    "        Distancias = np.linalg.norm(i-r,axis=1)\n",
    "        dist.extend(Distancias)\n",
    "    return np.array(dist)\n",
    "\n",
    "#funcion de correlacion\n",
    "def LS(d,r,NS):\n",
    "    #NS es el numero de saltos que tendremos en r\n",
    "    DD = distancias(d,d)\n",
    "    RR = distancias(r,r)\n",
    "    DR = distancias(d,r)\n",
    "    \n",
    "    rD = np.linspace(0,np.max(DD),NS)\n",
    "    rR = np.linspace(0,np.max(RR),NS)\n",
    "    rDR = np.linspace(0,np.max(DR),NS)\n",
    "    \n",
    "    e = []\n",
    "    \n",
    "    for i in range(NS-1):\n",
    "    #contamos todas las distancias que estén en un intervalo r - r+dr  (r[i]-r[i+1])\n",
    "        NDD = len(DD[(DD >= rD[i]) & (DD <= rD[i+1])])\n",
    "        NRR = len(RR[(RR >= rR[i]) & (RR <= rR[i+1])])\n",
    "        NDR = len(DR[(DR >= rDR[i]) & (DR <= rDR[i+1])])\n",
    "        \n",
    "     #aplicamos Landy y Szalay y lo guardamos como un valor de xi de un r particular (r[i+(1/2)])     \n",
    "        e.append(NDD/(NRR)-2*NDR/(NRR)+1)\n",
    "\n",
    "    return rD[:NS-1],np.array(e)"
   ]
  },
  {
   "cell_type": "code",
   "execution_count": 36,
   "metadata": {},
   "outputs": [],
   "source": [
    "r1 = np.zeros((N,D))\n",
    "r2 = np.zeros((N,D))\n",
    "\n",
    "for i in range(N):\n",
    "    r1[i] = np.random.uniform(0,l,D)\n",
    "    r2[i] = np.random.uniform(0,l,D)    "
   ]
  },
  {
   "cell_type": "code",
   "execution_count": 37,
   "metadata": {},
   "outputs": [],
   "source": [
    "r,e = LS(r1,r2,50)"
   ]
  },
  {
   "cell_type": "code",
   "execution_count": 51,
   "metadata": {},
   "outputs": [
    {
     "data": {
      "image/png": "[encoded data removed]",
      "text/plain": [
       "<Figure size 432x288 with 1 Axes>"
      ]
     },
     "metadata": {
      "needs_background": "light"
     },
     "output_type": "display_data"
    }
   ],
   "source": [
    "plt.scatter(r,e, s=10, c='magenta')\n",
    "plt.plot(r,e,'green')\n",
    "plt.xlabel('r',fontsize=12)\n",
    "plt.ylabel('$\\u03BE(r)$',fontsize=12)\n",
    "plt.title('Landy-Szalay:',fontsize=16)\n",
    "plt.grid();"
   ]
  }
 ],
 "metadata": {
  "kernelspec": {
   "display_name": "Python 3",
   "language": "python",
   "name": "python3"
  },
  "language_info": {
   "codemirror_mode": {
    "name": "ipython",
    "version": 3
   },
   "file_extension": ".py",
   "mimetype": "text/x-python",
   "name": "python",
   "nbconvert_exporter": "python",
   "pygments_lexer": "ipython3",
   "version": "3.7.4"
  }
 },
 "nbformat": 4,
 "nbformat_minor": 4
}
