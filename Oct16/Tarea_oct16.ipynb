{
 "cells": [
  {
   "cell_type": "markdown",
   "metadata": {},
   "source": [
    "Partimos de $P(A ∩ B) = P(B ∩ A)$\n",
    "\n",
    "donde la intersección es:\n",
    "\\begin{equation}\n",
    "P(A ∩ B) = P(A)P(B|A)\n",
    "\\end{equation}\n",
    "\n",
    "y además por la misma ecuación de intersección: \n",
    "\n",
    "\\begin{equation}\n",
    "P(B ∩ A) = P(B)P(A|B) \n",
    "\\end{equation}\n",
    "\n",
    "Usando la proposición inicial se puede ver que\n",
    "\n",
    "\\begin{equation}\n",
    "P(B)P(A|B) = P(A)P(B|A) \n",
    "\\end{equation}\n",
    "\n",
    "De aquí, al dividir por $P(B)$ obtenemos:\n",
    "\n",
    "\\begin{equation}\n",
    "P(A|B) = P(A) \\frac{P(B|A)}{P(B)}\n",
    "\\end{equation}\n",
    "\n",
    "Llegando así al teorema de bayes"
   ]
  },
  {
   "cell_type": "code",
   "execution_count": 47,
   "metadata": {},
   "outputs": [],
   "source": [
    "import numpy as np\n",
    "import math as mt\n",
    "import matplotlib.pyplot as plt\n",
    "import scipy\n",
    "from scipy.stats import chi2"
   ]
  },
  {
   "cell_type": "markdown",
   "metadata": {},
   "source": [
    "Creamos recta"
   ]
  },
  {
   "cell_type": "code",
   "execution_count": 48,
   "metadata": {},
   "outputs": [],
   "source": [
    "sigma = 0.1\n",
    "N=20\n",
    "x = np.linspace(0,3,N)\n",
    "y_mod = 3*x + 1\n",
    "yr = sigma*np.random.randn(N)\n",
    "y = y_mod + yr\n",
    "yerr = sigma + sigma*np.random.randn(N)"
   ]
  },
  {
   "cell_type": "markdown",
   "metadata": {},
   "source": [
    "Definimos funciones de recta y chi square"
   ]
  },
  {
   "cell_type": "code",
   "execution_count": 49,
   "metadata": {},
   "outputs": [],
   "source": [
    "def recta(x,a,b):\n",
    "    return a*x + b\n",
    "\n",
    "def chisquare(t,data):\n",
    "    x = data[0]\n",
    "    y = data[1]\n",
    "    yerr = data[2]\n",
    "    mod = recta(x,t[0],t[1])\n",
    "    chisq = (y-mod)**2 / yerr**2   \n",
    "    return chisq.sum()"
   ]
  },
  {
   "cell_type": "code",
   "execution_count": 50,
   "metadata": {},
   "outputs": [
    {
     "data": {
      "text/plain": [
       "<Figure size 432x288 with 0 Axes>"
      ]
     },
     "metadata": {},
     "output_type": "display_data"
    },
    {
     "data": {
      "image/png": "[encoded data removed]",
      "text/plain": [
       "<Figure size 720x360 with 2 Axes>"
      ]
     },
     "metadata": {
      "needs_background": "light"
     },
     "output_type": "display_data"
    }
   ],
   "source": [
    "#Parametros iniciales\n",
    "a0 = 0.\n",
    "b0 = 0.\n",
    "sigma_a = 0.05\n",
    "sigma_b = 0.05\n",
    "a = [a0]\n",
    "b = [b0]\n",
    "chi_0 = chisquare([a0,b0],[x,y,yerr])\n",
    "\n",
    "for i in range(10000): \n",
    "    #Generamos dos numeros random con los que comparar\n",
    "    a_rf = np.random.normal(a0,sigma_a) \n",
    "    b_rf = np.random.normal(b0,sigma_b) \n",
    "    ch_random = chisquare([a_rf,b_rf],[x,y,yerr])\n",
    "    \n",
    "    if ch_random < chi_0:\n",
    "        a.append(a_rf)\n",
    "        b.append(b_rf)\n",
    "        a0 = a_rf\n",
    "        b0 = b_rf\n",
    "        chi_0= ch_random\n",
    "        \n",
    "    else:\n",
    "        r = -np.log(np.random.uniform(0,1))\n",
    "        resta = abs(ch_random-chi_0)\n",
    "        if resta<r:\n",
    "            a.append(a_rf)\n",
    "            b.append(b_rf)\n",
    "            ai = a_rf\n",
    "            bi = b_rf\n",
    "            chi_0 = ch_random\n",
    "\n",
    "        else:\n",
    "            a.append(a_rf)\n",
    "            b.append(b_rf)\n",
    "            \n",
    "\n",
    "\n",
    "plt.figure(1)\n",
    "plt.figure(figsize=(10,5))\n",
    "plt.subplot(221)\n",
    "plt.scatter(a,b,s=1)\n",
    "\n",
    "plt.subplot(222)\n",
    "plt.scatter( a[1000:], b[1000:],s=1,color = 'red')\n",
    "plt.show();\n",
    "\n",
    "\n"
   ]
  },
  {
   "cell_type": "markdown",
   "metadata": {},
   "source": [
    "Debemos continuar con el algoritmo de metropolis"
   ]
  }
 ],
 "metadata": {
  "kernelspec": {
   "display_name": "Python 3",
   "language": "python",
   "name": "python3"
  },
  "language_info": {
   "codemirror_mode": {
    "name": "ipython",
    "version": 3
   },
   "file_extension": ".py",
   "mimetype": "text/x-python",
   "name": "python",
   "nbconvert_exporter": "python",
   "pygments_lexer": "ipython3",
   "version": "3.7.4"
  }
 },
 "nbformat": 4,
 "nbformat_minor": 4
}
