{
 "cells": [
  {
   "cell_type": "markdown",
   "metadata": {},
   "source": [
    "Partimos de $P(A ∩ B) = P(B ∩ A)$\n",
    "\n",
    "donde la intersección es:\n",
    "\\begin{equation}\n",
    "P(A ∩ B) = P(A)P(B|A)\n",
    "\\end{equation}\n",
    "\n",
    "y además por la misma ecuación de intersección: \n",
    "\n",
    "\\begin{equation}\n",
    "P(B ∩ A) = P(B)P(A|B) \n",
    "\\end{equation}\n",
    "\n",
    "Usando la proposición inicial se puede ver que\n",
    "\n",
    "\\begin{equation}\n",
    "P(B)P(A|B) = P(A)P(B|A) \n",
    "\\end{equation}\n",
    "\n",
    "De aquí, al dividir por $P(B)$ obtenemos:\n",
    "\n",
    "\\begin{equation}\n",
    "P(A|B) = P(A) \\frac{P(B|A)}{P(B)}\n",
    "\\end{equation}\n",
    "\n",
    "Llegando así al teorema de bayes"
   ]
  },
  {
   "cell_type": "code",
   "execution_count": null,
   "metadata": {},
   "outputs": [],
   "source": []
  }
 ],
 "metadata": {
  "kernelspec": {
   "display_name": "Python 3",
   "language": "python",
   "name": "python3"
  },
  "language_info": {
   "codemirror_mode": {
    "name": "ipython",
    "version": 3
   },
   "file_extension": ".py",
   "mimetype": "text/x-python",
   "name": "python",
   "nbconvert_exporter": "python",
   "pygments_lexer": "ipython3",
   "version": "3.7.4"
  }
 },
 "nbformat": 4,
 "nbformat_minor": 4
}
